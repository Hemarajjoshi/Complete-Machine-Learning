{
 "cells": [
  {
   "cell_type": "markdown",
   "id": "b92a2b54-c608-4102-af91-a3dd95eb916c",
   "metadata": {},
   "source": [
    "<b> KNN Regressor </b>"
   ]
  },
  {
   "cell_type": "markdown",
   "id": "d8d0e489-0199-4641-a8c5-766fa11c8867",
   "metadata": {},
   "source": [
    "Advanced KNN\n",
    "Very simple algorithm can be used in both classification as well as in the regression.\n",
    "\n",
    "<b> KNN in Regression Problem </b> \n"
   ]
  },
  {
   "cell_type": "markdown",
   "id": "1d7b9039-d154-4add-9f36-0832f553d6ad",
   "metadata": {},
   "source": [
    "KNN Regressor is the variant of the KNN which can be used  for regression data. \n",
    "Steps involved in KNN Regressor are: \n",
    "1. Calculate the distance of the train dataset with the query point. \n",
    "2. Select the suitable value of the K, which can be selected experimental or sqrt(n).\n",
    "3. Calculate the of the kth nearest data point to the query point and provides the output.\n",
    "\n",
    "   It is used in small  dataset with low dimension and used for prediction not in inferencial. KNN works as a back box model.\n",
    "\n",
    "If the value of K is very less than there is high variance and overfitting occurs and if the value of K is very high there is more bias and underfitting occurs. So determining the correct value of K is very important."
   ]
  },
  {
   "cell_type": "markdown",
   "id": "c657d94e-ea66-4702-bd2a-dcb1d45f86dd",
   "metadata": {},
   "source": [
    "<b> Weighted KNN </b>:<br>\n",
    "In normal KNN algo we take the weight of the every neighbour equal but in the weighted KNN the weight of the nearest one is taken more than than far one.<br>\n",
    "There are serval ways of giving weight but the simple technique is  reciprocal technique where :<br>\n",
    "                        Weight(W) = 1 / Distance\n",
    "                    The far the distance the less the weight will be"
   ]
  },
  {
   "cell_type": "markdown",
   "id": "53395cc9-79ff-4f80-8b6a-431d3fbef509",
   "metadata": {},
   "source": [
    "Classification Metric Which are used for Calculating the performance of the classification algo. <br>\n",
    "1.<b>Accuracy score </b>: Very simple for calculating the performance of the metrics and the first one we will be calculating after we perform the classification problem. <br> \n",
    "We can calculate Accuracy score by importing the accuracy score from the sklearn.metrics. \n",
    "\n",
    "<b> How much Accuracy is good ? </b> <br>\n",
    "Depends upon the problem. <br> \n",
    "For example if we are developing the model for the cancer the treatment of the cancer patient and the model accuracy is 99 percent. In this case no \n",
    "hospital will buy the model because in every 100 people there is a chance of death of 1 perosn which is not acceptable. \n",
    "\n",
    "Another example can be If we are calculating wheather the customer will buy the goods from daraz by looking at the past data of the customer and the \n",
    "accuracy of the model is 80 percent then we can deploy the model we will not be having too much loss. \n",
    "So how much accuracy score is good do depends upon the problem we are solving.\n",
    "\n",
    "<b> Problem with Accuracy Score </b>\n",
    "The accuracy score tells the total mistake in the algorithm but it doesn't tells which mistake is occuring. \n",
    "For example we are created the model which predict wheather the patient have the cancer or not. and it's accracy is 90 percent. \n",
    "We get the information about the mistake but we don't get the information about which mistake is occuring \n",
    "There can be two problem:  <br>\n",
    "i. The patient have cancer and our model is predicting that the patient doesn't have cancer. <br>\n",
    "ii. The patient doesn't have cancer and the model is predicting that the patient have cancer.<br>\n",
    "This is the main disadvantage of accuracy score."
   ]
  },
  {
   "cell_type": "markdown",
   "id": "036e95bf-035b-4d60-bd7e-3ee207722962",
   "metadata": {},
   "source": [
    "<b> Confusion Metrix <b><br>\n",
    "\n",
    "To overcome the problem with accuracy score we introduce teh confusion metrix. Confusion metrics actually tells the which how much each mistake is done\n",
    "by out model. <br> \n",
    "We can calcualte confusion metric  by importing it from sklearn.metrics as: <br>\n",
    "               <b> from sklearn.metrics  import confusion_matrix <b>\n",
    "       \n",
    "<b> Type one error and Type two error <b> <br>\n",
    "\n",
    "If your model is predicting True but the actual is value is False then it is know as Type one error. It is also called false positive error.\n",
    "If your model is predicting False but the Actual value is True then it is known as Type two error. It is also called False negative error.\n",
    "\n",
    "<b>When is Accuracy score misleading ? <b> <br>\n",
    "\n",
    "The accuracy is misleading the imbalanced datasets (Data sets with one category dominant ). \n",
    "Again let's go through the same exxample of the cancer prediction model. The patient will be tested positive cancer very less times compared to tested negative. let's assume out of 100000 patient . 10 patients are tested cancer positive. If we make the model which only predicts the patient is tested the negative cancer. The accuracy  of the model will be nearly 100 but  it's not giving the result we want. so the Accuracy score is very much misleading in imbalanced datasets. "
   ]
  },
  {
   "cell_type": "markdown",
   "id": "88c8e415-aadb-48d0-b496-27b09b1e46f9",
   "metadata": {},
   "source": [
    "<b> Precison <b>\n",
    "\n",
    "What proportion of actual positives is correctly classified? Here if type 1 error is more dangerous then we tkae high precision models.\n",
    "\n",
    "<b> Recall<b>\n",
    "\n",
    "What proportion of actual negatively is correctly classified? Here if type 2 error is more dangerous then we take high recall models. \n",
    "\n",
    "<b> F1 Score <b>\n",
    "\n",
    "We are unsure about the importance of type one error or importance of type 2 error. Then we use F1 score.\n",
    "\n",
    "If we want to calculate them all at one then we can do as follows : <br>\n",
    " <b> from sklearn.metrics import classification_report <b>\n"
   ]
  },
  {
   "cell_type": "code",
   "execution_count": null,
   "id": "d9a398c4-bfd1-4d9e-8104-88aab34c3e51",
   "metadata": {},
   "outputs": [],
   "source": []
  },
  {
   "cell_type": "code",
   "execution_count": null,
   "id": "9d9c42d0-83c0-4f0f-ad25-267bc115842b",
   "metadata": {},
   "outputs": [],
   "source": []
  },
  {
   "cell_type": "code",
   "execution_count": null,
   "id": "f530ce82-9870-4c69-b493-49c19cc0bc63",
   "metadata": {},
   "outputs": [],
   "source": []
  },
  {
   "cell_type": "code",
   "execution_count": null,
   "id": "2bdab191-f5e4-4cb3-bd1b-4ab7349e6f2a",
   "metadata": {},
   "outputs": [],
   "source": []
  },
  {
   "cell_type": "code",
   "execution_count": null,
   "id": "a22d166d-869a-439a-859e-5a5f5149b1ee",
   "metadata": {},
   "outputs": [],
   "source": []
  }
 ],
 "metadata": {
  "kernelspec": {
   "display_name": "Python 3 (ipykernel)",
   "language": "python",
   "name": "python3"
  },
  "language_info": {
   "codemirror_mode": {
    "name": "ipython",
    "version": 3
   },
   "file_extension": ".py",
   "mimetype": "text/x-python",
   "name": "python",
   "nbconvert_exporter": "python",
   "pygments_lexer": "ipython3",
   "version": "3.11.7"
  }
 },
 "nbformat": 4,
 "nbformat_minor": 5
}
