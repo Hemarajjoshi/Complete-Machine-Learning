{
 "cells": [
  {
   "cell_type": "markdown",
   "id": "d38f2b9a",
   "metadata": {},
   "source": [
    "# Day1 : Assumptions in Linear Regression"
   ]
  },
  {
   "cell_type": "raw",
   "id": "78c87e66",
   "metadata": {},
   "source": [
    "Linear Regression Relies on the several assumptions:\n",
    "    1. Linearity \n",
    "    2. Normality of Residuals\n",
    "    3. Homoscedasticity \n",
    "    4.No Autocorrealtion\n",
    "    5. No or little Multicollinearity\n",
    "    "
   ]
  },
  {
   "cell_type": "markdown",
   "id": "0439b79a",
   "metadata": {},
   "source": [
    "# Linearity"
   ]
  },
  {
   "cell_type": "markdown",
   "id": "d3fbbf52",
   "metadata": {},
   "source": [
    "What if it fails:\n",
    "    i. Bias in parameter estimate\n",
    "    ii. Reduced predictive accuracy \n",
    "    iii. Invalid hypothesis test and confidence interval\n",
    "    \n",
    "How to check :-\n",
    "    i. Scatter Plots : The Scatter plots can be drawn if the dimensions of the data is no too much big. \n",
    "        \n",
    "    ii. Residual plots : The residuals plots can bee drawn and can be predicted the residuals plots are the simply graph between\n",
    "        the difference between  actual value and predicted value and the actual value of the given data.\n",
    "        \n",
    "    iii. Polynomial Regression : We can use polynomial regression with different degree and check wheather the given r2_score is\n",
    "        improving or not.\n",
    "        \n",
    "    "
   ]
  },
  {
   "cell_type": "code",
   "execution_count": 1,
   "id": "943999db",
   "metadata": {},
   "outputs": [],
   "source": [
    "#code\n",
    "import numpy as np \n",
    "import pandas as pd \n",
    "import matplotlib.pyplot as plt\n",
    "from sklearn.linear_model import LinearRegression\n"
   ]
  },
  {
   "cell_type": "code",
   "execution_count": 2,
   "id": "09b1ce77",
   "metadata": {},
   "outputs": [
    {
     "data": {
      "text/html": [
       "<div>\n",
       "<style scoped>\n",
       "    .dataframe tbody tr th:only-of-type {\n",
       "        vertical-align: middle;\n",
       "    }\n",
       "\n",
       "    .dataframe tbody tr th {\n",
       "        vertical-align: top;\n",
       "    }\n",
       "\n",
       "    .dataframe thead th {\n",
       "        text-align: right;\n",
       "    }\n",
       "</style>\n",
       "<table border=\"1\" class=\"dataframe\">\n",
       "  <thead>\n",
       "    <tr style=\"text-align: right;\">\n",
       "      <th></th>\n",
       "      <th>x1</th>\n",
       "      <th>y1</th>\n",
       "      <th>z1</th>\n",
       "    </tr>\n",
       "  </thead>\n",
       "  <tbody>\n",
       "    <tr>\n",
       "      <th>0</th>\n",
       "      <td>3.197477</td>\n",
       "      <td>-0.352807</td>\n",
       "      <td>12.423494</td>\n",
       "    </tr>\n",
       "    <tr>\n",
       "      <th>1</th>\n",
       "      <td>3.139676</td>\n",
       "      <td>1.647776</td>\n",
       "      <td>15.913158</td>\n",
       "    </tr>\n",
       "    <tr>\n",
       "      <th>2</th>\n",
       "      <td>-0.333974</td>\n",
       "      <td>1.662159</td>\n",
       "      <td>5.679341</td>\n",
       "    </tr>\n",
       "    <tr>\n",
       "      <th>3</th>\n",
       "      <td>2.305042</td>\n",
       "      <td>-2.280423</td>\n",
       "      <td>11.494353</td>\n",
       "    </tr>\n",
       "    <tr>\n",
       "      <th>4</th>\n",
       "      <td>4.054602</td>\n",
       "      <td>2.526314</td>\n",
       "      <td>25.532483</td>\n",
       "    </tr>\n",
       "    <tr>\n",
       "      <th>...</th>\n",
       "      <td>...</td>\n",
       "      <td>...</td>\n",
       "      <td>...</td>\n",
       "    </tr>\n",
       "    <tr>\n",
       "      <th>95</th>\n",
       "      <td>-1.635548</td>\n",
       "      <td>-2.639234</td>\n",
       "      <td>12.061614</td>\n",
       "    </tr>\n",
       "    <tr>\n",
       "      <th>96</th>\n",
       "      <td>3.506852</td>\n",
       "      <td>-1.473730</td>\n",
       "      <td>14.405104</td>\n",
       "    </tr>\n",
       "    <tr>\n",
       "      <th>97</th>\n",
       "      <td>-2.183509</td>\n",
       "      <td>3.194187</td>\n",
       "      <td>16.864774</td>\n",
       "    </tr>\n",
       "    <tr>\n",
       "      <th>98</th>\n",
       "      <td>0.989063</td>\n",
       "      <td>3.526736</td>\n",
       "      <td>17.158309</td>\n",
       "    </tr>\n",
       "    <tr>\n",
       "      <th>99</th>\n",
       "      <td>1.316169</td>\n",
       "      <td>-0.696786</td>\n",
       "      <td>2.816660</td>\n",
       "    </tr>\n",
       "  </tbody>\n",
       "</table>\n",
       "<p>100 rows × 3 columns</p>\n",
       "</div>"
      ],
      "text/plain": [
       "          x1        y1         z1\n",
       "0   3.197477 -0.352807  12.423494\n",
       "1   3.139676  1.647776  15.913158\n",
       "2  -0.333974  1.662159   5.679341\n",
       "3   2.305042 -2.280423  11.494353\n",
       "4   4.054602  2.526314  25.532483\n",
       "..       ...       ...        ...\n",
       "95 -1.635548 -2.639234  12.061614\n",
       "96  3.506852 -1.473730  14.405104\n",
       "97 -2.183509  3.194187  16.864774\n",
       "98  0.989063  3.526736  17.158309\n",
       "99  1.316169 -0.696786   2.816660\n",
       "\n",
       "[100 rows x 3 columns]"
      ]
     },
     "execution_count": 2,
     "metadata": {},
     "output_type": "execute_result"
    }
   ],
   "source": [
    "x= 7*np.random.rand(100,1)-2.8\n",
    "y = 7*np.random.rand(100,1)-2.8\n",
    "\n",
    "z= x**2+y**2+0.2*x+0.2*y+0.1*x*y+2+np.random.randn(100,1)\n",
    "df = pd.DataFrame()\n",
    "\n",
    "df['x1'] = x.reshape(100)\n",
    "df['y1'] = y.reshape(100)\n",
    "df['z1'] = z.reshape(100)\n",
    "df"
   ]
  },
  {
   "cell_type": "code",
   "execution_count": 3,
   "id": "2714da4b",
   "metadata": {},
   "outputs": [
    {
     "data": {
      "text/plain": [
       "<matplotlib.collections.PathCollection at 0x16f16b90290>"
      ]
     },
     "execution_count": 3,
     "metadata": {},
     "output_type": "execute_result"
    },
    {
     "data": {
      "image/png": "[encoded data removed]",
      "text/plain": [
       "<Figure size 1200x500 with 2 Axes>"
      ]
     },
     "metadata": {},
     "output_type": "display_data"
    }
   ],
   "source": [
    "#ploting the scatter plot even we can plot the scatter plot between two variable for examples we can plot the scatter plot \n",
    "#between x1 and y1 and the second one can be plotted between x1 and z1 and we can conclude wheather it is linear or not. \n",
    "\n",
    "fig , (ax1, ax2) =plt.subplots(1,2 , figsize = (12,5))\n",
    "ax1.scatter(df['x1'],df['z1'], color = \"red\")\n",
    "ax2.scatter(df['x1'], df['y1'], color = \"Blue\")\n"
   ]
  },
  {
   "cell_type": "markdown",
   "id": "3351384e",
   "metadata": {},
   "source": [
    "by plotting the different variable with the result we can conclude that the given set of data is nott linear. \n"
   ]
  },
  {
   "cell_type": "code",
   "execution_count": 4,
   "id": "0bd784e1",
   "metadata": {},
   "outputs": [
    {
     "data": {
      "text/plain": [
       "<matplotlib.collections.PathCollection at 0x16f16c81a50>"
      ]
     },
     "execution_count": 4,
     "metadata": {},
     "output_type": "execute_result"
    },
    {
     "data": {
      "image/png": "[encoded data removed]",
      "text/plain": [
       "<Figure size 640x480 with 1 Axes>"
      ]
     },
     "metadata": {},
     "output_type": "display_data"
    }
   ],
   "source": [
    "# Residual plot\n",
    "\n",
    "x= df[['x1', 'y1']]\n",
    "y = df['z1']\n",
    "\n",
    "model = LinearRegression()\n",
    "model.fit(x,y)\n",
    "\n",
    "y_pred = model.predict(x)\n",
    "residuals = y - y_pred\n",
    "\n",
    "plt.scatter(y_pred, residuals)"
   ]
  },
  {
   "cell_type": "markdown",
   "id": "921a67f4",
   "metadata": {},
   "source": [
    "In the above figure it clearly shows that the data are non linear"
   ]
  },
  {
   "cell_type": "markdown",
   "id": "837f9a89",
   "metadata": {},
   "source": [
    " using the polynomial Regression for checking and take the degree  2 or more and try calculating the r2_score then after that \n",
    "    if the r2_score keeps immproving according to the degree then we can conclude that the given set of th data are not linear\n",
    "    "
   ]
  },
  {
   "cell_type": "code",
   "execution_count": 5,
   "id": "07507e7d",
   "metadata": {},
   "outputs": [
    {
     "name": "stdout",
     "output_type": "stream",
     "text": [
      "The r2_score of linear regression is 0.3190479199462315 \n",
      "The mean squared error of linear regreession is 26.447381804261262\n",
      "The r2_score of the polynomial regression is 0.9786610235179186\n",
      "The mean squared error of polynomial regresssion is 0.8287808714663087\n"
     ]
    }
   ],
   "source": [
    "from sklearn.preprocessing import PolynomialFeatures\n",
    "from sklearn.metrics import r2_score, mean_squared_error\n",
    "from sklearn.model_selection  import train_test_split\n",
    "\n",
    "X_train , X_test , y_train , y_test = train_test_split(x,y,test_size = 0.2, random_state = 42)\n",
    "linear_model = LinearRegression()\n",
    "linear_model.fit(X_train, y_train)\n",
    "y_predict = linear_model.predict(X_test)\n",
    "\n",
    "\n",
    "linear_r2 = r2_score(y_test, y_predict)\n",
    "linear_mse = mean_squared_error(y_test, y_predict)\n",
    "\n",
    "\n",
    "#using the polynomial Regression\n",
    "\n",
    "poly_feature = PolynomialFeatures(degree=2)\n",
    "X_train_poly = poly_feature.fit_transform(X_train)\n",
    "X_test_poly = poly_feature.fit_transform(X_test)\n",
    "\n",
    "poly_model = LinearRegression()\n",
    "poly_model.fit(X_train_poly, y_train)\n",
    "y_predict_poly = poly_model.predict(X_test_poly)\n",
    "\n",
    "#calculating r2_score and Mean squared Error\n",
    "\n",
    "poly_r2 = r2_score(y_test, y_predict_poly)\n",
    "poly_mse = mean_squared_error(y_test, y_predict_poly)\n",
    "\n",
    "print(f'The r2_score of linear regression is {linear_r2} ')\n",
    "print(f'The mean squared error of linear regreession is {linear_mse}')\n",
    "print(f'The r2_score of the polynomial regression is {poly_r2}')\n",
    "print(f'The mean squared error of polynomial regresssion is {poly_mse}')\n"
   ]
  },
  {
   "cell_type": "markdown",
   "id": "2ad38216",
   "metadata": {},
   "source": [
    "Looking at the above result we can concude the that there is non lnearity in the data as the r2 score increases with polynomial\n",
    "regression"
   ]
  },
  {
   "cell_type": "markdown",
   "id": "f3dc6279",
   "metadata": {},
   "source": [
    "What can we do if the assumption fails?\n",
    "1. Transformations : Apply transformations to the dependent or independent variable to make their realtion more linear. common \n",
    "    transformations include logarithmic, square root and inverse transformations\n",
    "\n",
    "\n",
    "2. Polynomial Regression : As shown above we can apply polynomial regression for the non-Linearity datas.\n",
    "    \n",
    "3. Piecewise Regresssion : We can divide the data set into different data sets and see wheather the group of the data set\n",
    "    are linear or not. \n",
    "    \n",
    "4. Using non parametric or semi parametric methods : We can use the non parametric or semi parametric methods which don't relies \n",
    "    on the linearity assumptions such as generalized active models (GAMS), kernel regression, splines etc."
   ]
  },
  {
   "cell_type": "code",
   "execution_count": 6,
   "id": "07777a68",
   "metadata": {},
   "outputs": [
    {
     "name": "stdout",
     "output_type": "stream",
     "text": [
      "The r_2 score of the non transformed data is 0.9007887768060907\n",
      "The r_2 score of the transformed data is 0.9290590339678223\n"
     ]
    },
    {
     "data": {
      "image/png": "[encoded data removed]",
      "text/plain": [
       "<Figure size 1200x500 with 2 Axes>"
      ]
     },
     "metadata": {},
     "output_type": "display_data"
    }
   ],
   "source": [
    "# coding for the transformation  \n",
    "import numpy as np \n",
    "import pandas as pd \n",
    "import matplotlib.pyplot as plt\n",
    "from sklearn.linear_model import LinearRegression\n",
    "from sklearn.metrics import r2_score\n",
    "\n",
    "\n",
    "np.random.seed(42)\n",
    "x= 10 * np.random.rand(100,1)\n",
    "y = x**2 + 5 + np.random.normal(0,5,(100,1))\n",
    "y = np.abs(y)\n",
    "\n",
    "y_sqrt = np.sqrt(y)\n",
    "\n",
    "linear_model = LinearRegression()\n",
    "linear_model.fit(x,y)\n",
    "linear_transformed_model = LinearRegression()\n",
    "linear_transformed_model.fit(x, y_sqrt)\n",
    "\n",
    "\n",
    "linear_model_predict = linear_model.predict(x)\n",
    "linear_transformed_model_predict  = linear_transformed_model.predict(x)\n",
    "\n",
    "fig, (ax1, ax2) = plt.subplots(1,2, figsize=(12,5))\n",
    "\n",
    "\n",
    "ax1.scatter(x,y, color= \"blue\")\n",
    "ax1.plot(x,linear_model_predict, color = \"red\", linewidth = 2 )\n",
    "ax1.set_title(\"Without transformation \")\n",
    "ax1.set_xlabel(\"x\")\n",
    "ax1.set_ylabel(\"y\")\n",
    "\n",
    "\n",
    "ax2.scatter(x,y_sqrt, color = \"blue\")\n",
    "ax2.plot(x, linear_transformed_model_predict, color = \"red\", linewidth = 2)\n",
    "ax2.set_title(\"With transformation\")\n",
    "ax2.set_xlabel(\"x\")\n",
    "ax2.set_ylabel(\"y_sqrt\")\n",
    "\n",
    "\n",
    "print(f'The r_2 score of the non transformed data is {r2_score(y, linear_model_predict)}')\n",
    "print(f'The r_2 score of the transformed data is {r2_score(y_sqrt, linear_transformed_model_predict)}')"
   ]
  },
  {
   "cell_type": "markdown",
   "id": "d0159bd4",
   "metadata": {},
   "source": [
    "From the above example we can clearly see that the linerity can be gained by the transformation of the data.The first picture \n",
    "is plotted without the transformation of the data which show some non linear characterstics and the second graph is drawn  after\n",
    "transforming the data which is after square rooting the y which give the data some linearity properties. The r2_socre too improves after the transformation which clearly shows that we can change the linearity of the data by transforming."
   ]
  },
  {
   "cell_type": "markdown",
   "id": "b58d632e",
   "metadata": {},
   "source": [
    "# Normality of Residuals "
   ]
  },
  {
   "cell_type": "markdown",
   "id": "f7dcb602",
   "metadata": {},
   "source": [
    "Assumption:\n",
    "    The error terms(residuals) are assumed to follow the normal distrubution with a mean of zero and a constant variable.\n",
    "\n",
    "\n",
    "Consequences of Assumption voilations:\n",
    "    1. Inaacurate hypothesis test : The f- test and t-test used to access the significance of the regression coefficent and the \n",
    "        overall model rely on the normality assumptions. If the residuals are not normally distrubuted these tests may produce\n",
    "        inaccurate results which may leads  to wrong inference about the independent variable.\n",
    "        \n",
    "    2. Invalid confidence intervals: The confidence intervals of the regression are based on the noramality assumptions.\n",
    "        \n",
    "    3. Model Performance : The voilations of the normality assumptions may indicate that the chosen model is not best for the data\n",
    "        potentially leading to reduced predictive accuracy. \n",
    "        \n",
    "Checking the assumption:\n",
    "    1. Residuals histogram \n",
    "    2. Q-Q plot"
   ]
  },
  {
   "cell_type": "code",
   "execution_count": 7,
   "id": "66305cc1",
   "metadata": {},
   "outputs": [
    {
     "data": {
      "image/png": "[encoded data removed]",
      "text/plain": [
       "<Figure size 1000x800 with 1 Axes>"
      ]
     },
     "metadata": {},
     "output_type": "display_data"
    },
    {
     "data": {
      "image/png": "[encoded data removed]",
      "text/plain": [
       "<Figure size 1000x800 with 1 Axes>"
      ]
     },
     "metadata": {},
     "output_type": "display_data"
    }
   ],
   "source": [
    "import seaborn as sns \n",
    "np.random.seed(42)\n",
    "x= np.random.rand(100,1)\n",
    "y = 3*x+ 5 + np.random.normal(0,0.3,(100,1))\n",
    "y = np.abs(y)\n",
    "\n",
    "model = LinearRegression()\n",
    "model.fit(x,y)\n",
    "y_predict =  model.predict(x)\n",
    "\n",
    "residual = y- y_predict \n",
    "\n",
    "\n",
    "#historgram \n",
    "\n",
    "plt.figure(figsize=(10,8))\n",
    "sns.histplot(residual ,kde = True)\n",
    "plt.title(\"Residuals Histogram\")\n",
    "plt.xlabel(\"residual\")\n",
    "plt.ylabel(\"frequency\")\n",
    "plt.show()\n",
    "\n",
    "# we can draw Q plots as well \n",
    "\n",
    "from scipy import stats\n",
    "plt.figure(figsize = (10,8))\n",
    "stats.probplot(residual.flatten(), plot = plt)\n",
    "plt.title(\"Q-Q plot \")\n",
    "plt.xlabel(\"Theoretical quantities\")\n",
    "plt.ylabel(\"sample quantities\")\n",
    "plt.show()"
   ]
  },
  {
   "cell_type": "code",
   "execution_count": 8,
   "id": "c131017e",
   "metadata": {},
   "outputs": [
    {
     "ename": "SyntaxError",
     "evalue": "unterminated string literal (detected at line 8) (478053463.py, line 8)",
     "output_type": "error",
     "traceback": [
      "\u001b[1;36m  Cell \u001b[1;32mIn[8], line 8\u001b[1;36m\u001b[0m\n\u001b[1;33m    3. Use bootstrapping : Bootstrapping based model doesn't rely on the normality of the assumptions.\u001b[0m\n\u001b[1;37m                                                          ^\u001b[0m\n\u001b[1;31mSyntaxError\u001b[0m\u001b[1;31m:\u001b[0m unterminated string literal (detected at line 8)\n"
     ]
    }
   ],
   "source": [
    "What if  fails ?\n",
    "1. Model selection technique : Employ model selection technique like cross validation , AIC, BIC to choose the best model \n",
    "    among the different candidate models that can handle non normal residuals.\n",
    "    \n",
    "2. Robust Regression : Using Robust regression which are less sensitive to the distrubution of the residuals such as \n",
    "    M-estimation, least trimmed squares(LTS).\n",
    "    \n",
    "3. Use bootstrapping : Bootstrapping based model doesn't rely on the normality of the assumptions.\n",
    "    \n",
    "Note : We need to worry about the voilation of this assumptions because the According tthe central limit theorem if the number of \n",
    "    observation (n) is greater than 30 then the residuals are normal and which is true in most of the cases."
   ]
  },
  {
   "cell_type": "markdown",
   "id": "b3d7f73e",
   "metadata": {},
   "source": [
    "# Homoscedasticity "
   ]
  },
  {
   "cell_type": "markdown",
   "id": "c56c7f03",
   "metadata": {},
   "source": [
    "The Assumption: \n",
    "    The spread of the error  terms( residuals )  should be constant across all levels of the levels of the independent \n",
    "    variability. \n",
    "    \n",
    "    \n",
    "What if fails ?\n",
    "1. Inaccurate hypothesis test\n",
    "2. Inaccureate confidence value\n",
    "\n",
    "solution if fails \n",
    "1. Look for OVM \n",
    "2. Look for outliers and remove them. \n",
    "3. Transformation as above.\n",
    "\n"
   ]
  },
  {
   "cell_type": "markdown",
   "id": "44d793e8",
   "metadata": {},
   "source": [
    "# Multicollinearity"
   ]
  },
  {
   "cell_type": "code",
   "execution_count": null,
   "id": "89fd26ca",
   "metadata": {},
   "outputs": [],
   "source": [
    "Multicollinearity is the stastical phenomenoon that occurs when two or more independent variables in a multiple Regression \n",
    "are highly correalted. In other words, these variables exhibit a strong linear realtionship making it difficult to isolate \n",
    "the individual effects of each variable on the dependent variable.\n",
    "\n",
    "\n",
    "When multicollinearity is bad ?\n",
    "\n",
    "1. Inferencial Statistics "
   ]
  },
  {
   "cell_type": "code",
   "execution_count": null,
   "id": "ac6578b7",
   "metadata": {},
   "outputs": [],
   "source": []
  },
  {
   "cell_type": "markdown",
   "id": "f8a99485",
   "metadata": {},
   "source": [
    "# Feature Selection"
   ]
  },
  {
   "cell_type": "markdown",
   "id": "0c7522f6",
   "metadata": {},
   "source": [
    "All the input columns are known as Features. In machine learning with the help of features we try to predict the result. \n",
    "some time when we are dealing with p features we try to extract the subset of the p to predict. This process is known as \n",
    "Feature selection. \n",
    "\n",
    "Reason for feature selection :\n",
    "\n",
    "1. <b>Curse of dimensionality </b> : In certain number of features only the optimum output is obtained. More than those features \n",
    "    maylead  bad outuput. For example calculating the flat price and we take the feature like square feet, no. of bathroom , \n",
    "    location and many more. In certain number of the feature the output is optimum if we add more or less we may not get the \n",
    "    optimum output. There is the concept of <b>  sparsity</b> which tells that if there are more dimension the distance between \n",
    "    the points is not realiable. \n",
    "    \n",
    "    \n",
    "2. <b> Computational Complexity </b> : After all our Model will run as a software application. If we have more dimensions hen \n",
    "this will be more expensive . \n",
    "\n",
    "3. <b>  Difficult Interpretability </b> : when we are dealing with Interpretability it's hard to interpret. \n",
    "\n",
    "\n",
    "\n",
    "\n",
    "\n",
    "\n",
    "\n",
    "\n"
   ]
  },
  {
   "cell_type": "markdown",
   "id": "b4233da3",
   "metadata": {},
   "source": [
    "# Feature Selection Technique in Machine Learning "
   ]
  },
  {
   "cell_type": "markdown",
   "id": "4b4b2974",
   "metadata": {},
   "source": [
    "They are divided into four Sections : \n",
    "    \n",
    "1. <b> Filter Based Selection Technique </b>\n",
    "2. <b> Wrapper Method  </b>\n",
    "3. <b> Embedded Technique </b> \n",
    "4. <b> Hybrid Technique  </b> \n"
   ]
  },
  {
   "cell_type": "markdown",
   "id": "e8b2f62e",
   "metadata": {},
   "source": [
    "## Filter Based Feature Selection "
   ]
  },
  {
   "cell_type": "markdown",
   "id": "e9c8b6fe",
   "metadata": {},
   "source": [
    "Filter Based feature selection technique are the methods that uses statstical measures to score each of feature indepedently \n",
    "and select the subset of the feature on the basis of the score. \n",
    "\n",
    "<b> Variance  Threshold </b>\n",
    "Variance threshold is mostly applied between two types of data. \n",
    "Constant and quasi constant data.\n",
    "If the feature have constnat value the variance is 0 and we can claim that this feature have no role of determing the output.\n",
    "and if the feature have most of the value constant for example out of 1200 datas if it have 1150 constant data we can also \n",
    "claim that this feature also doesn't play a big role in determing the output.\n",
    "\n",
    "Steps : \n",
    "1. Defining the threshold frequency. Normally it is determined in between 0.1 to 0.01\n",
    "2. Calculating the variance for the each feature.\n",
    "3. Checking the variance of each of feature and droping the feature which doesn't meets the threshold variance.\n",
    "\n",
    "Points to be consider while variance Threshold :\n",
    "1. Ignores the target variables: We don't actually study the realtionship with output columns. It is univariate method. we may have feature with high variance but not a good realtion with output and we may have low variance and don't have good realtion with output.\n",
    "\n",
    "2. Ignores the Feature Interactions : Variance threshold doesn't account the feature interactions. A feature with the low variance can bacome informative combining with the feature with high variance. \n",
    "\n",
    "3. Sensitive to data scaling : Same scale is needed for all the features.  For Example if we are setting the variance threshold is 0.1 and we have two data sets, one with the large scale such as number like 1000 , 1200 and more and another with the very small scale such as 0.1 and 0.2. The data with higher scale will not meet the threshold but the data with the small threshold will. so Data scaling so important. \n",
    "\n",
    "4. Arbitary Threshold value : We don't have predefined threshold value and the threshold value may differ according to the datasets.\n",
    "\n",
    "\n",
    "<b> Correlation </b>\n",
    "\n",
    "If we calcualte the correlation between the two feature then if they are strong linear realtionship we can drop the one and keep one. This method can be used for feature selection. For example if we have two feature f1 and f2 and if we calcualte the Pearson Correaltion Coefficient and got the value 0.95 we can claim that there is strong correlation between them. So we can drop any one of them more over dropping may depend which have strong relationship with the output column. \n",
    "\n",
    "Points to consider while Variance threshold are :\n",
    "\n",
    "1. Linearity assumptions : The dropped columns may have non linear realtionship with the output columns which can create the problem in the prediction.\n",
    "\n",
    "2. Doesn't Capture the complex realtionship : If we are reducing the feature then we may miss their complex relationship. For example if we have feature f1, f2 and f3 and drop the feature f2 according to the correlation but what if we can get even better if we study the relation between f1, f2 and f3 combined. \n",
    "\n",
    "3. Threshold Determination :Like the variance threshold there is no pre defined threshold value of the correlation.\n",
    "\n",
    "4. Sensitive to the outliers \n"
   ]
  },
  {
   "cell_type": "code",
   "execution_count": 12,
   "id": "aa1b78ff",
   "metadata": {},
   "outputs": [
    {
     "data": {
      "text/html": [
       "<div>\n",
       "<style scoped>\n",
       "    .dataframe tbody tr th:only-of-type {\n",
       "        vertical-align: middle;\n",
       "    }\n",
       "\n",
       "    .dataframe tbody tr th {\n",
       "        vertical-align: top;\n",
       "    }\n",
       "\n",
       "    .dataframe thead th {\n",
       "        text-align: right;\n",
       "    }\n",
       "</style>\n",
       "<table border=\"1\" class=\"dataframe\">\n",
       "  <thead>\n",
       "    <tr style=\"text-align: right;\">\n",
       "      <th></th>\n",
       "      <th>Time</th>\n",
       "      <th>0</th>\n",
       "      <th>1</th>\n",
       "      <th>2</th>\n",
       "      <th>3</th>\n",
       "      <th>4</th>\n",
       "      <th>5</th>\n",
       "      <th>6</th>\n",
       "      <th>7</th>\n",
       "      <th>8</th>\n",
       "      <th>...</th>\n",
       "      <th>581</th>\n",
       "      <th>582</th>\n",
       "      <th>583</th>\n",
       "      <th>584</th>\n",
       "      <th>585</th>\n",
       "      <th>586</th>\n",
       "      <th>587</th>\n",
       "      <th>588</th>\n",
       "      <th>589</th>\n",
       "      <th>Pass/Fail</th>\n",
       "    </tr>\n",
       "  </thead>\n",
       "  <tbody>\n",
       "    <tr>\n",
       "      <th>0</th>\n",
       "      <td>2008-07-19 11:55:00</td>\n",
       "      <td>3030.93</td>\n",
       "      <td>2564.00</td>\n",
       "      <td>2187.7333</td>\n",
       "      <td>1411.1265</td>\n",
       "      <td>1.3602</td>\n",
       "      <td>100.0</td>\n",
       "      <td>97.6133</td>\n",
       "      <td>0.1242</td>\n",
       "      <td>1.5005</td>\n",
       "      <td>...</td>\n",
       "      <td>NaN</td>\n",
       "      <td>0.5005</td>\n",
       "      <td>0.0118</td>\n",
       "      <td>0.0035</td>\n",
       "      <td>2.3630</td>\n",
       "      <td>NaN</td>\n",
       "      <td>NaN</td>\n",
       "      <td>NaN</td>\n",
       "      <td>NaN</td>\n",
       "      <td>-1</td>\n",
       "    </tr>\n",
       "    <tr>\n",
       "      <th>1</th>\n",
       "      <td>2008-07-19 12:32:00</td>\n",
       "      <td>3095.78</td>\n",
       "      <td>2465.14</td>\n",
       "      <td>2230.4222</td>\n",
       "      <td>1463.6606</td>\n",
       "      <td>0.8294</td>\n",
       "      <td>100.0</td>\n",
       "      <td>102.3433</td>\n",
       "      <td>0.1247</td>\n",
       "      <td>1.4966</td>\n",
       "      <td>...</td>\n",
       "      <td>208.2045</td>\n",
       "      <td>0.5019</td>\n",
       "      <td>0.0223</td>\n",
       "      <td>0.0055</td>\n",
       "      <td>4.4447</td>\n",
       "      <td>0.0096</td>\n",
       "      <td>0.0201</td>\n",
       "      <td>0.0060</td>\n",
       "      <td>208.2045</td>\n",
       "      <td>-1</td>\n",
       "    </tr>\n",
       "    <tr>\n",
       "      <th>2</th>\n",
       "      <td>2008-07-19 13:17:00</td>\n",
       "      <td>2932.61</td>\n",
       "      <td>2559.94</td>\n",
       "      <td>2186.4111</td>\n",
       "      <td>1698.0172</td>\n",
       "      <td>1.5102</td>\n",
       "      <td>100.0</td>\n",
       "      <td>95.4878</td>\n",
       "      <td>0.1241</td>\n",
       "      <td>1.4436</td>\n",
       "      <td>...</td>\n",
       "      <td>82.8602</td>\n",
       "      <td>0.4958</td>\n",
       "      <td>0.0157</td>\n",
       "      <td>0.0039</td>\n",
       "      <td>3.1745</td>\n",
       "      <td>0.0584</td>\n",
       "      <td>0.0484</td>\n",
       "      <td>0.0148</td>\n",
       "      <td>82.8602</td>\n",
       "      <td>1</td>\n",
       "    </tr>\n",
       "    <tr>\n",
       "      <th>3</th>\n",
       "      <td>2008-07-19 14:43:00</td>\n",
       "      <td>2988.72</td>\n",
       "      <td>2479.90</td>\n",
       "      <td>2199.0333</td>\n",
       "      <td>909.7926</td>\n",
       "      <td>1.3204</td>\n",
       "      <td>100.0</td>\n",
       "      <td>104.2367</td>\n",
       "      <td>0.1217</td>\n",
       "      <td>1.4882</td>\n",
       "      <td>...</td>\n",
       "      <td>73.8432</td>\n",
       "      <td>0.4990</td>\n",
       "      <td>0.0103</td>\n",
       "      <td>0.0025</td>\n",
       "      <td>2.0544</td>\n",
       "      <td>0.0202</td>\n",
       "      <td>0.0149</td>\n",
       "      <td>0.0044</td>\n",
       "      <td>73.8432</td>\n",
       "      <td>-1</td>\n",
       "    </tr>\n",
       "    <tr>\n",
       "      <th>4</th>\n",
       "      <td>2008-07-19 15:22:00</td>\n",
       "      <td>3032.24</td>\n",
       "      <td>2502.87</td>\n",
       "      <td>2233.3667</td>\n",
       "      <td>1326.5200</td>\n",
       "      <td>1.5334</td>\n",
       "      <td>100.0</td>\n",
       "      <td>100.3967</td>\n",
       "      <td>0.1235</td>\n",
       "      <td>1.5031</td>\n",
       "      <td>...</td>\n",
       "      <td>NaN</td>\n",
       "      <td>0.4800</td>\n",
       "      <td>0.4766</td>\n",
       "      <td>0.1045</td>\n",
       "      <td>99.3032</td>\n",
       "      <td>0.0202</td>\n",
       "      <td>0.0149</td>\n",
       "      <td>0.0044</td>\n",
       "      <td>73.8432</td>\n",
       "      <td>-1</td>\n",
       "    </tr>\n",
       "  </tbody>\n",
       "</table>\n",
       "<p>5 rows × 592 columns</p>\n",
       "</div>"
      ],
      "text/plain": [
       "                  Time        0        1          2          3       4      5  \\\n",
       "0  2008-07-19 11:55:00  3030.93  2564.00  2187.7333  1411.1265  1.3602  100.0   \n",
       "1  2008-07-19 12:32:00  3095.78  2465.14  2230.4222  1463.6606  0.8294  100.0   \n",
       "2  2008-07-19 13:17:00  2932.61  2559.94  2186.4111  1698.0172  1.5102  100.0   \n",
       "3  2008-07-19 14:43:00  2988.72  2479.90  2199.0333   909.7926  1.3204  100.0   \n",
       "4  2008-07-19 15:22:00  3032.24  2502.87  2233.3667  1326.5200  1.5334  100.0   \n",
       "\n",
       "          6       7       8  ...       581     582     583     584      585  \\\n",
       "0   97.6133  0.1242  1.5005  ...       NaN  0.5005  0.0118  0.0035   2.3630   \n",
       "1  102.3433  0.1247  1.4966  ...  208.2045  0.5019  0.0223  0.0055   4.4447   \n",
       "2   95.4878  0.1241  1.4436  ...   82.8602  0.4958  0.0157  0.0039   3.1745   \n",
       "3  104.2367  0.1217  1.4882  ...   73.8432  0.4990  0.0103  0.0025   2.0544   \n",
       "4  100.3967  0.1235  1.5031  ...       NaN  0.4800  0.4766  0.1045  99.3032   \n",
       "\n",
       "      586     587     588       589  Pass/Fail  \n",
       "0     NaN     NaN     NaN       NaN         -1  \n",
       "1  0.0096  0.0201  0.0060  208.2045         -1  \n",
       "2  0.0584  0.0484  0.0148   82.8602          1  \n",
       "3  0.0202  0.0149  0.0044   73.8432         -1  \n",
       "4  0.0202  0.0149  0.0044   73.8432         -1  \n",
       "\n",
       "[5 rows x 592 columns]"
      ]
     },
     "execution_count": 12,
     "metadata": {},
     "output_type": "execute_result"
    }
   ],
   "source": [
    "import pandas as pd\n",
    "\n",
    "data = pd.read_csv(\"https://docs.google.com/spreadsheets/d/e/2PACX-1vQtBXo5cBnDsM2fmfHPm6u72KGUS5FjPHNGMxOfYjA9-CAhmnRpwkIw_rOR3sANJIToiUU__6fbBvig/pub?gid=572763137&single=true&output=csv\")\n",
    "\n",
    "data.head()"
   ]
  },
  {
   "cell_type": "code",
   "execution_count": 13,
   "id": "5e2f983f",
   "metadata": {},
   "outputs": [
    {
     "data": {
      "text/plain": [
       "Index(['149', '179', '186', '189', '191', '192', '193', '194', '226', '229',\n",
       "       ...\n",
       "       '529', '530', '531', '532', '533', '534', '535', '536', '537', '538'],\n",
       "      dtype='object', length=104)"
      ]
     },
     "execution_count": 13,
     "metadata": {},
     "output_type": "execute_result"
    }
   ],
   "source": [
    "from sklearn.feature_selection import VarianceThreshold, SelectKBest, chi2, f_classif\n",
    "from scipy.stats import pearsonr\n",
    "\n",
    "#checking for duplicated columns\n",
    "\n",
    "duplicated_col = data.columns[data.T.duplicated()]\n",
    "duplicated_col"
   ]
  },
  {
   "cell_type": "code",
   "execution_count": 38,
   "id": "a3ecc230",
   "metadata": {},
   "outputs": [],
   "source": [
    "#as we get the duplicated columns we need to drop them so \n",
    "\n",
    "data1 = data.drop(columns = duplicated_col)\n",
    "data1 =  data1.drop('Time', axis=1, inplace = True)\n",
    "data1\n"
   ]
  },
  {
   "cell_type": "markdown",
   "id": "15e85d23",
   "metadata": {},
   "source": [
    "We can clearly see the duplicated columns are cleared from the datasset and the number of the columns are dropped to 487 from \n",
    "592"
   ]
  },
  {
   "cell_type": "code",
   "execution_count": 37,
   "id": "51e19c78",
   "metadata": {},
   "outputs": [],
   "source": [
    "from sklearn.model_selection import train_test_split\n",
    "X = data.drop('Pass/Fail', axis=1)\n",
    "y = data['Pass/Fail']\n",
    "X_train, X_test, y_train, y_test = train_test_split(X,y, test_size = 0.25, random_state = 10 )"
   ]
  },
  {
   "cell_type": "code",
   "execution_count": 32,
   "id": "b74680dc",
   "metadata": {},
   "outputs": [
    {
     "name": "stdout",
     "output_type": "stream",
     "text": [
      "(1175, 591)\n",
      "(392, 591)\n"
     ]
    }
   ],
   "source": [
    "print(X_train.shape)\n",
    "print(X_test.shape)"
   ]
  },
  {
   "cell_type": "code",
   "execution_count": 33,
   "id": "948b854e",
   "metadata": {},
   "outputs": [
    {
     "ename": "ValueError",
     "evalue": "could not convert string to float: '2008-09-27 11:04:00'",
     "output_type": "error",
     "traceback": [
      "\u001b[1;31m---------------------------------------------------------------------------\u001b[0m",
      "\u001b[1;31mValueError\u001b[0m                                Traceback (most recent call last)",
      "\u001b[1;32m~\\AppData\\Local\\Temp\\ipykernel_4000\\1272746538.py\u001b[0m in \u001b[0;36m?\u001b[1;34m()\u001b[0m\n\u001b[0;32m      1\u001b[0m \u001b[1;32mfrom\u001b[0m \u001b[0msklearn\u001b[0m\u001b[1;33m.\u001b[0m\u001b[0mlinear_model\u001b[0m \u001b[1;32mimport\u001b[0m \u001b[0mLogisticRegression\u001b[0m\u001b[1;33m\u001b[0m\u001b[1;33m\u001b[0m\u001b[0m\n\u001b[0;32m      2\u001b[0m \u001b[0mlog_reg\u001b[0m \u001b[1;33m=\u001b[0m \u001b[0mLogisticRegression\u001b[0m\u001b[1;33m(\u001b[0m\u001b[0mmax_iter\u001b[0m \u001b[1;33m=\u001b[0m \u001b[1;36m1000\u001b[0m\u001b[1;33m)\u001b[0m\u001b[1;33m\u001b[0m\u001b[1;33m\u001b[0m\u001b[0m\n\u001b[1;32m----> 3\u001b[1;33m \u001b[0mlog_reg\u001b[0m\u001b[1;33m.\u001b[0m\u001b[0mfit\u001b[0m\u001b[1;33m(\u001b[0m\u001b[0mX_train\u001b[0m\u001b[1;33m,\u001b[0m \u001b[0my_train\u001b[0m\u001b[1;33m)\u001b[0m\u001b[1;33m\u001b[0m\u001b[1;33m\u001b[0m\u001b[0m\n\u001b[0m",
      "\u001b[1;32mD:\\Annoconda\\Lib\\site-packages\\sklearn\\base.py\u001b[0m in \u001b[0;36m?\u001b[1;34m(estimator, *args, **kwargs)\u001b[0m\n\u001b[0;32m   1347\u001b[0m                 skip_parameter_validation=(\n\u001b[0;32m   1348\u001b[0m                     \u001b[0mprefer_skip_nested_validation\u001b[0m \u001b[1;32mor\u001b[0m \u001b[0mglobal_skip_validation\u001b[0m\u001b[1;33m\u001b[0m\u001b[1;33m\u001b[0m\u001b[0m\n\u001b[0;32m   1349\u001b[0m                 )\n\u001b[0;32m   1350\u001b[0m             ):\n\u001b[1;32m-> 1351\u001b[1;33m                 \u001b[1;32mreturn\u001b[0m \u001b[0mfit_method\u001b[0m\u001b[1;33m(\u001b[0m\u001b[0mestimator\u001b[0m\u001b[1;33m,\u001b[0m \u001b[1;33m*\u001b[0m\u001b[0margs\u001b[0m\u001b[1;33m,\u001b[0m \u001b[1;33m**\u001b[0m\u001b[0mkwargs\u001b[0m\u001b[1;33m)\u001b[0m\u001b[1;33m\u001b[0m\u001b[1;33m\u001b[0m\u001b[0m\n\u001b[0m",
      "\u001b[1;32mD:\\Annoconda\\Lib\\site-packages\\sklearn\\linear_model\\_logistic.py\u001b[0m in \u001b[0;36m?\u001b[1;34m(self, X, y, sample_weight)\u001b[0m\n\u001b[0;32m   1197\u001b[0m             \u001b[0m_dtype\u001b[0m \u001b[1;33m=\u001b[0m \u001b[0mnp\u001b[0m\u001b[1;33m.\u001b[0m\u001b[0mfloat64\u001b[0m\u001b[1;33m\u001b[0m\u001b[1;33m\u001b[0m\u001b[0m\n\u001b[0;32m   1198\u001b[0m         \u001b[1;32melse\u001b[0m\u001b[1;33m:\u001b[0m\u001b[1;33m\u001b[0m\u001b[1;33m\u001b[0m\u001b[0m\n\u001b[0;32m   1199\u001b[0m             \u001b[0m_dtype\u001b[0m \u001b[1;33m=\u001b[0m \u001b[1;33m[\u001b[0m\u001b[0mnp\u001b[0m\u001b[1;33m.\u001b[0m\u001b[0mfloat64\u001b[0m\u001b[1;33m,\u001b[0m \u001b[0mnp\u001b[0m\u001b[1;33m.\u001b[0m\u001b[0mfloat32\u001b[0m\u001b[1;33m]\u001b[0m\u001b[1;33m\u001b[0m\u001b[1;33m\u001b[0m\u001b[0m\n\u001b[0;32m   1200\u001b[0m \u001b[1;33m\u001b[0m\u001b[0m\n\u001b[1;32m-> 1201\u001b[1;33m         X, y = self._validate_data(\n\u001b[0m\u001b[0;32m   1202\u001b[0m             \u001b[0mX\u001b[0m\u001b[1;33m,\u001b[0m\u001b[1;33m\u001b[0m\u001b[1;33m\u001b[0m\u001b[0m\n\u001b[0;32m   1203\u001b[0m             \u001b[0my\u001b[0m\u001b[1;33m,\u001b[0m\u001b[1;33m\u001b[0m\u001b[1;33m\u001b[0m\u001b[0m\n\u001b[0;32m   1204\u001b[0m             \u001b[0maccept_sparse\u001b[0m\u001b[1;33m=\u001b[0m\u001b[1;34m\"csr\"\u001b[0m\u001b[1;33m,\u001b[0m\u001b[1;33m\u001b[0m\u001b[1;33m\u001b[0m\u001b[0m\n",
      "\u001b[1;32mD:\\Annoconda\\Lib\\site-packages\\sklearn\\base.py\u001b[0m in \u001b[0;36m?\u001b[1;34m(self, X, y, reset, validate_separately, cast_to_ndarray, **check_params)\u001b[0m\n\u001b[0;32m    646\u001b[0m                 \u001b[1;32mif\u001b[0m \u001b[1;34m\"estimator\"\u001b[0m \u001b[1;32mnot\u001b[0m \u001b[1;32min\u001b[0m \u001b[0mcheck_y_params\u001b[0m\u001b[1;33m:\u001b[0m\u001b[1;33m\u001b[0m\u001b[1;33m\u001b[0m\u001b[0m\n\u001b[0;32m    647\u001b[0m                     \u001b[0mcheck_y_params\u001b[0m \u001b[1;33m=\u001b[0m \u001b[1;33m{\u001b[0m\u001b[1;33m**\u001b[0m\u001b[0mdefault_check_params\u001b[0m\u001b[1;33m,\u001b[0m \u001b[1;33m**\u001b[0m\u001b[0mcheck_y_params\u001b[0m\u001b[1;33m}\u001b[0m\u001b[1;33m\u001b[0m\u001b[1;33m\u001b[0m\u001b[0m\n\u001b[0;32m    648\u001b[0m                 \u001b[0my\u001b[0m \u001b[1;33m=\u001b[0m \u001b[0mcheck_array\u001b[0m\u001b[1;33m(\u001b[0m\u001b[0my\u001b[0m\u001b[1;33m,\u001b[0m \u001b[0minput_name\u001b[0m\u001b[1;33m=\u001b[0m\u001b[1;34m\"y\"\u001b[0m\u001b[1;33m,\u001b[0m \u001b[1;33m**\u001b[0m\u001b[0mcheck_y_params\u001b[0m\u001b[1;33m)\u001b[0m\u001b[1;33m\u001b[0m\u001b[1;33m\u001b[0m\u001b[0m\n\u001b[0;32m    649\u001b[0m             \u001b[1;32melse\u001b[0m\u001b[1;33m:\u001b[0m\u001b[1;33m\u001b[0m\u001b[1;33m\u001b[0m\u001b[0m\n\u001b[1;32m--> 650\u001b[1;33m                 \u001b[0mX\u001b[0m\u001b[1;33m,\u001b[0m \u001b[0my\u001b[0m \u001b[1;33m=\u001b[0m \u001b[0mcheck_X_y\u001b[0m\u001b[1;33m(\u001b[0m\u001b[0mX\u001b[0m\u001b[1;33m,\u001b[0m \u001b[0my\u001b[0m\u001b[1;33m,\u001b[0m \u001b[1;33m**\u001b[0m\u001b[0mcheck_params\u001b[0m\u001b[1;33m)\u001b[0m\u001b[1;33m\u001b[0m\u001b[1;33m\u001b[0m\u001b[0m\n\u001b[0m\u001b[0;32m    651\u001b[0m             \u001b[0mout\u001b[0m \u001b[1;33m=\u001b[0m \u001b[0mX\u001b[0m\u001b[1;33m,\u001b[0m \u001b[0my\u001b[0m\u001b[1;33m\u001b[0m\u001b[1;33m\u001b[0m\u001b[0m\n\u001b[0;32m    652\u001b[0m \u001b[1;33m\u001b[0m\u001b[0m\n\u001b[0;32m    653\u001b[0m         \u001b[1;32mif\u001b[0m \u001b[1;32mnot\u001b[0m \u001b[0mno_val_X\u001b[0m \u001b[1;32mand\u001b[0m \u001b[0mcheck_params\u001b[0m\u001b[1;33m.\u001b[0m\u001b[0mget\u001b[0m\u001b[1;33m(\u001b[0m\u001b[1;34m\"ensure_2d\"\u001b[0m\u001b[1;33m,\u001b[0m \u001b[1;32mTrue\u001b[0m\u001b[1;33m)\u001b[0m\u001b[1;33m:\u001b[0m\u001b[1;33m\u001b[0m\u001b[1;33m\u001b[0m\u001b[0m\n",
      "\u001b[1;32mD:\\Annoconda\\Lib\\site-packages\\sklearn\\utils\\validation.py\u001b[0m in \u001b[0;36m?\u001b[1;34m(X, y, accept_sparse, accept_large_sparse, dtype, order, copy, force_all_finite, ensure_2d, allow_nd, multi_output, ensure_min_samples, ensure_min_features, y_numeric, estimator)\u001b[0m\n\u001b[0;32m   1188\u001b[0m         raise ValueError(\n\u001b[0;32m   1189\u001b[0m             \u001b[1;34mf\"{estimator_name} requires y to be passed, but the target y is None\"\u001b[0m\u001b[1;33m\u001b[0m\u001b[1;33m\u001b[0m\u001b[0m\n\u001b[0;32m   1190\u001b[0m         )\n\u001b[0;32m   1191\u001b[0m \u001b[1;33m\u001b[0m\u001b[0m\n\u001b[1;32m-> 1192\u001b[1;33m     X = check_array(\n\u001b[0m\u001b[0;32m   1193\u001b[0m         \u001b[0mX\u001b[0m\u001b[1;33m,\u001b[0m\u001b[1;33m\u001b[0m\u001b[1;33m\u001b[0m\u001b[0m\n\u001b[0;32m   1194\u001b[0m         \u001b[0maccept_sparse\u001b[0m\u001b[1;33m=\u001b[0m\u001b[0maccept_sparse\u001b[0m\u001b[1;33m,\u001b[0m\u001b[1;33m\u001b[0m\u001b[1;33m\u001b[0m\u001b[0m\n\u001b[0;32m   1195\u001b[0m         \u001b[0maccept_large_sparse\u001b[0m\u001b[1;33m=\u001b[0m\u001b[0maccept_large_sparse\u001b[0m\u001b[1;33m,\u001b[0m\u001b[1;33m\u001b[0m\u001b[1;33m\u001b[0m\u001b[0m\n",
      "\u001b[1;32mD:\\Annoconda\\Lib\\site-packages\\sklearn\\utils\\validation.py\u001b[0m in \u001b[0;36m?\u001b[1;34m(array, accept_sparse, accept_large_sparse, dtype, order, copy, force_all_finite, ensure_2d, allow_nd, ensure_min_samples, ensure_min_features, estimator, input_name)\u001b[0m\n\u001b[0;32m    948\u001b[0m                         )\n\u001b[0;32m    949\u001b[0m                     \u001b[0marray\u001b[0m \u001b[1;33m=\u001b[0m \u001b[0mxp\u001b[0m\u001b[1;33m.\u001b[0m\u001b[0mastype\u001b[0m\u001b[1;33m(\u001b[0m\u001b[0marray\u001b[0m\u001b[1;33m,\u001b[0m \u001b[0mdtype\u001b[0m\u001b[1;33m,\u001b[0m \u001b[0mcopy\u001b[0m\u001b[1;33m=\u001b[0m\u001b[1;32mFalse\u001b[0m\u001b[1;33m)\u001b[0m\u001b[1;33m\u001b[0m\u001b[1;33m\u001b[0m\u001b[0m\n\u001b[0;32m    950\u001b[0m                 \u001b[1;32melse\u001b[0m\u001b[1;33m:\u001b[0m\u001b[1;33m\u001b[0m\u001b[1;33m\u001b[0m\u001b[0m\n\u001b[0;32m    951\u001b[0m                     \u001b[0marray\u001b[0m \u001b[1;33m=\u001b[0m \u001b[0m_asarray_with_order\u001b[0m\u001b[1;33m(\u001b[0m\u001b[0marray\u001b[0m\u001b[1;33m,\u001b[0m \u001b[0morder\u001b[0m\u001b[1;33m=\u001b[0m\u001b[0morder\u001b[0m\u001b[1;33m,\u001b[0m \u001b[0mdtype\u001b[0m\u001b[1;33m=\u001b[0m\u001b[0mdtype\u001b[0m\u001b[1;33m,\u001b[0m \u001b[0mxp\u001b[0m\u001b[1;33m=\u001b[0m\u001b[0mxp\u001b[0m\u001b[1;33m)\u001b[0m\u001b[1;33m\u001b[0m\u001b[1;33m\u001b[0m\u001b[0m\n\u001b[1;32m--> 952\u001b[1;33m             \u001b[1;32mexcept\u001b[0m \u001b[0mComplexWarning\u001b[0m \u001b[1;32mas\u001b[0m \u001b[0mcomplex_warning\u001b[0m\u001b[1;33m:\u001b[0m\u001b[1;33m\u001b[0m\u001b[1;33m\u001b[0m\u001b[0m\n\u001b[0m\u001b[0;32m    953\u001b[0m                 raise ValueError(\n\u001b[0;32m    954\u001b[0m                     \u001b[1;34m\"Complex data not supported\\n{}\\n\"\u001b[0m\u001b[1;33m.\u001b[0m\u001b[0mformat\u001b[0m\u001b[1;33m(\u001b[0m\u001b[0marray\u001b[0m\u001b[1;33m)\u001b[0m\u001b[1;33m\u001b[0m\u001b[1;33m\u001b[0m\u001b[0m\n\u001b[0;32m    955\u001b[0m                 ) from complex_warning\n",
      "\u001b[1;32mD:\\Annoconda\\Lib\\site-packages\\sklearn\\utils\\_array_api.py\u001b[0m in \u001b[0;36m?\u001b[1;34m(array, dtype, order, copy, xp)\u001b[0m\n\u001b[0;32m    517\u001b[0m         \u001b[1;31m# Use NumPy API to support order\u001b[0m\u001b[1;33m\u001b[0m\u001b[1;33m\u001b[0m\u001b[0m\n\u001b[0;32m    518\u001b[0m         \u001b[1;32mif\u001b[0m \u001b[0mcopy\u001b[0m \u001b[1;32mis\u001b[0m \u001b[1;32mTrue\u001b[0m\u001b[1;33m:\u001b[0m\u001b[1;33m\u001b[0m\u001b[1;33m\u001b[0m\u001b[0m\n\u001b[0;32m    519\u001b[0m             \u001b[0marray\u001b[0m \u001b[1;33m=\u001b[0m \u001b[0mnumpy\u001b[0m\u001b[1;33m.\u001b[0m\u001b[0marray\u001b[0m\u001b[1;33m(\u001b[0m\u001b[0marray\u001b[0m\u001b[1;33m,\u001b[0m \u001b[0morder\u001b[0m\u001b[1;33m=\u001b[0m\u001b[0morder\u001b[0m\u001b[1;33m,\u001b[0m \u001b[0mdtype\u001b[0m\u001b[1;33m=\u001b[0m\u001b[0mdtype\u001b[0m\u001b[1;33m)\u001b[0m\u001b[1;33m\u001b[0m\u001b[1;33m\u001b[0m\u001b[0m\n\u001b[0;32m    520\u001b[0m         \u001b[1;32melse\u001b[0m\u001b[1;33m:\u001b[0m\u001b[1;33m\u001b[0m\u001b[1;33m\u001b[0m\u001b[0m\n\u001b[1;32m--> 521\u001b[1;33m             \u001b[0marray\u001b[0m \u001b[1;33m=\u001b[0m \u001b[0mnumpy\u001b[0m\u001b[1;33m.\u001b[0m\u001b[0masarray\u001b[0m\u001b[1;33m(\u001b[0m\u001b[0marray\u001b[0m\u001b[1;33m,\u001b[0m \u001b[0morder\u001b[0m\u001b[1;33m=\u001b[0m\u001b[0morder\u001b[0m\u001b[1;33m,\u001b[0m \u001b[0mdtype\u001b[0m\u001b[1;33m=\u001b[0m\u001b[0mdtype\u001b[0m\u001b[1;33m)\u001b[0m\u001b[1;33m\u001b[0m\u001b[1;33m\u001b[0m\u001b[0m\n\u001b[0m\u001b[0;32m    522\u001b[0m \u001b[1;33m\u001b[0m\u001b[0m\n\u001b[0;32m    523\u001b[0m         \u001b[1;31m# At this point array is a NumPy ndarray. We convert it to an array\u001b[0m\u001b[1;33m\u001b[0m\u001b[1;33m\u001b[0m\u001b[0m\n\u001b[0;32m    524\u001b[0m         \u001b[1;31m# container that is consistent with the input's namespace.\u001b[0m\u001b[1;33m\u001b[0m\u001b[1;33m\u001b[0m\u001b[0m\n",
      "\u001b[1;32mD:\\Annoconda\\Lib\\site-packages\\pandas\\core\\generic.py\u001b[0m in \u001b[0;36m?\u001b[1;34m(self, dtype)\u001b[0m\n\u001b[0;32m   1996\u001b[0m     \u001b[1;32mdef\u001b[0m \u001b[0m__array__\u001b[0m\u001b[1;33m(\u001b[0m\u001b[0mself\u001b[0m\u001b[1;33m,\u001b[0m \u001b[0mdtype\u001b[0m\u001b[1;33m:\u001b[0m \u001b[0mnpt\u001b[0m\u001b[1;33m.\u001b[0m\u001b[0mDTypeLike\u001b[0m \u001b[1;33m|\u001b[0m \u001b[1;32mNone\u001b[0m \u001b[1;33m=\u001b[0m \u001b[1;32mNone\u001b[0m\u001b[1;33m)\u001b[0m \u001b[1;33m->\u001b[0m \u001b[0mnp\u001b[0m\u001b[1;33m.\u001b[0m\u001b[0mndarray\u001b[0m\u001b[1;33m:\u001b[0m\u001b[1;33m\u001b[0m\u001b[1;33m\u001b[0m\u001b[0m\n\u001b[0;32m   1997\u001b[0m         \u001b[0mvalues\u001b[0m \u001b[1;33m=\u001b[0m \u001b[0mself\u001b[0m\u001b[1;33m.\u001b[0m\u001b[0m_values\u001b[0m\u001b[1;33m\u001b[0m\u001b[1;33m\u001b[0m\u001b[0m\n\u001b[1;32m-> 1998\u001b[1;33m         \u001b[0marr\u001b[0m \u001b[1;33m=\u001b[0m \u001b[0mnp\u001b[0m\u001b[1;33m.\u001b[0m\u001b[0masarray\u001b[0m\u001b[1;33m(\u001b[0m\u001b[0mvalues\u001b[0m\u001b[1;33m,\u001b[0m \u001b[0mdtype\u001b[0m\u001b[1;33m=\u001b[0m\u001b[0mdtype\u001b[0m\u001b[1;33m)\u001b[0m\u001b[1;33m\u001b[0m\u001b[1;33m\u001b[0m\u001b[0m\n\u001b[0m\u001b[0;32m   1999\u001b[0m         if (\n\u001b[0;32m   2000\u001b[0m             \u001b[0mastype_is_view\u001b[0m\u001b[1;33m(\u001b[0m\u001b[0mvalues\u001b[0m\u001b[1;33m.\u001b[0m\u001b[0mdtype\u001b[0m\u001b[1;33m,\u001b[0m \u001b[0marr\u001b[0m\u001b[1;33m.\u001b[0m\u001b[0mdtype\u001b[0m\u001b[1;33m)\u001b[0m\u001b[1;33m\u001b[0m\u001b[1;33m\u001b[0m\u001b[0m\n\u001b[0;32m   2001\u001b[0m             \u001b[1;32mand\u001b[0m \u001b[0musing_copy_on_write\u001b[0m\u001b[1;33m(\u001b[0m\u001b[1;33m)\u001b[0m\u001b[1;33m\u001b[0m\u001b[1;33m\u001b[0m\u001b[0m\n",
      "\u001b[1;31mValueError\u001b[0m: could not convert string to float: '2008-09-27 11:04:00'"
     ]
    }
   ],
   "source": [
    "from sklearn.linear_model import LogisticRegression\n",
    "log_reg = LogisticRegression(max_iter = 1000)\n",
    "log_reg.fit(X_train, y_train)"
   ]
  },
  {
   "cell_type": "code",
   "execution_count": null,
   "id": "16f955fe",
   "metadata": {},
   "outputs": [],
   "source": []
  },
  {
   "cell_type": "code",
   "execution_count": null,
   "id": "577b12e6",
   "metadata": {},
   "outputs": [],
   "source": []
  },
  {
   "cell_type": "code",
   "execution_count": null,
   "id": "e3a74f4c",
   "metadata": {},
   "outputs": [],
   "source": []
  },
  {
   "cell_type": "code",
   "execution_count": null,
   "id": "884fb657",
   "metadata": {},
   "outputs": [],
   "source": []
  },
  {
   "cell_type": "code",
   "execution_count": null,
   "id": "2ba3e4f9",
   "metadata": {},
   "outputs": [],
   "source": []
  },
  {
   "cell_type": "code",
   "execution_count": null,
   "id": "2b533458",
   "metadata": {},
   "outputs": [],
   "source": []
  },
  {
   "cell_type": "code",
   "execution_count": null,
   "id": "e59b0eba",
   "metadata": {},
   "outputs": [],
   "source": []
  },
  {
   "cell_type": "code",
   "execution_count": null,
   "id": "c5f1375f",
   "metadata": {},
   "outputs": [],
   "source": []
  },
  {
   "cell_type": "code",
   "execution_count": null,
   "id": "441e5526",
   "metadata": {},
   "outputs": [],
   "source": []
  },
  {
   "cell_type": "code",
   "execution_count": null,
   "id": "0e58ab66",
   "metadata": {},
   "outputs": [],
   "source": []
  },
  {
   "cell_type": "code",
   "execution_count": null,
   "id": "4cec443a",
   "metadata": {},
   "outputs": [],
   "source": []
  },
  {
   "cell_type": "code",
   "execution_count": null,
   "id": "1398070b",
   "metadata": {},
   "outputs": [],
   "source": []
  },
  {
   "cell_type": "code",
   "execution_count": null,
   "id": "d9e946bb",
   "metadata": {},
   "outputs": [],
   "source": []
  },
  {
   "cell_type": "code",
   "execution_count": null,
   "id": "b4c4bb41",
   "metadata": {},
   "outputs": [],
   "source": []
  },
  {
   "cell_type": "code",
   "execution_count": null,
   "id": "f1c88d60",
   "metadata": {},
   "outputs": [],
   "source": []
  },
  {
   "cell_type": "code",
   "execution_count": null,
   "id": "44a46c27",
   "metadata": {},
   "outputs": [],
   "source": []
  }
 ],
 "metadata": {
  "kernelspec": {
   "display_name": "Python 3 (ipykernel)",
   "language": "python",
   "name": "python3"
  },
  "language_info": {
   "codemirror_mode": {
    "name": "ipython",
    "version": 3
   },
   "file_extension": ".py",
   "mimetype": "text/x-python",
   "name": "python",
   "nbconvert_exporter": "python",
   "pygments_lexer": "ipython3",
   "version": "3.11.5"
  }
 },
 "nbformat": 4,
 "nbformat_minor": 5
}
